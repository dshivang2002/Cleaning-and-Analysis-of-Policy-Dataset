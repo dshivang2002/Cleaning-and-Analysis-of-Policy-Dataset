{
 "cells": [
  {
   "cell_type": "code",
   "execution_count": 2,
   "id": "818b8c90-8874-4060-bcbc-2773a2567f11",
   "metadata": {},
   "outputs": [],
   "source": [
    "import pandas as pd \n",
    "import numpy as np "
   ]
  },
  {
   "cell_type": "code",
   "execution_count": 3,
   "id": "57ef9eba-d7fc-4f2f-b5f1-5616bdb05b8f",
   "metadata": {},
   "outputs": [
    {
     "name": "stderr",
     "output_type": "stream",
     "text": [
      "C:\\Users\\hp\\AppData\\Local\\Temp\\ipykernel_11724\\3994211715.py:1: DtypeWarning: Columns (20) have mixed types. Specify dtype option on import or set low_memory=False.\n",
      "  df = pd.read_csv(r'C:\\Users\\hp\\Desktop\\Policy Details - DE Assesment.csv', encoding='cp1252')\n"
     ]
    }
   ],
   "source": [
    "df = pd.read_csv(r'C:\\Users\\hp\\Desktop\\Policy Details - DE Assesment.csv', encoding='cp1252')"
   ]
  },
  {
   "cell_type": "code",
   "execution_count": 4,
   "id": "28e1a660-c67b-4d21-a329-b32f783d5ec0",
   "metadata": {},
   "outputs": [
    {
     "data": {
      "text/html": [
       "<div>\n",
       "<style scoped>\n",
       "    .dataframe tbody tr th:only-of-type {\n",
       "        vertical-align: middle;\n",
       "    }\n",
       "\n",
       "    .dataframe tbody tr th {\n",
       "        vertical-align: top;\n",
       "    }\n",
       "\n",
       "    .dataframe thead th {\n",
       "        text-align: right;\n",
       "    }\n",
       "</style>\n",
       "<table border=\"1\" class=\"dataframe\">\n",
       "  <thead>\n",
       "    <tr style=\"text-align: right;\">\n",
       "      <th></th>\n",
       "      <th>CUST_ID</th>\n",
       "      <th>EXECUTIVE</th>\n",
       "      <th>BODY</th>\n",
       "      <th>MAKE</th>\n",
       "      <th>MODEL</th>\n",
       "      <th>USE_OF_VEHICLE</th>\n",
       "      <th>MODEL_YEAR</th>\n",
       "      <th>CHASSIS_NO</th>\n",
       "      <th>REGN</th>\n",
       "      <th>POLICY_NO</th>\n",
       "      <th>...</th>\n",
       "      <th>POL_EXPIRY_DATE</th>\n",
       "      <th>SUM INSURED</th>\n",
       "      <th>POL_ISSUE_DATE</th>\n",
       "      <th>PREMIUM2</th>\n",
       "      <th>DRV_DOB</th>\n",
       "      <th>DRV_DLI</th>\n",
       "      <th>VEH_SEATS</th>\n",
       "      <th>PRODUCT</th>\n",
       "      <th>POLICYTYPE</th>\n",
       "      <th>Unnamed: 20</th>\n",
       "    </tr>\n",
       "  </thead>\n",
       "  <tbody>\n",
       "    <tr>\n",
       "      <th>0</th>\n",
       "      <td>749</td>\n",
       "      <td>JAIKISHIN (S)</td>\n",
       "      <td>SALOON</td>\n",
       "      <td>TOYOTA</td>\n",
       "      <td>AVALON</td>\n",
       "      <td>PRIVATE</td>\n",
       "      <td>2004.0</td>\n",
       "      <td>4T1BF28B74U386791</td>\n",
       "      <td>DUBAI</td>\n",
       "      <td>102048936</td>\n",
       "      <td>...</td>\n",
       "      <td>23-02-2016</td>\n",
       "      <td>14080.0</td>\n",
       "      <td>04-01-2015 08:14</td>\n",
       "      <td>1090.0</td>\n",
       "      <td>NaN</td>\n",
       "      <td>NaN</td>\n",
       "      <td>4.0</td>\n",
       "      <td>NOT CLASSIFIED</td>\n",
       "      <td>COMP</td>\n",
       "      <td>NaN</td>\n",
       "    </tr>\n",
       "    <tr>\n",
       "      <th>1</th>\n",
       "      <td>749</td>\n",
       "      <td>JAIKISHIN (S)</td>\n",
       "      <td>PICK UP</td>\n",
       "      <td>MITSUBISHI</td>\n",
       "      <td>CANTER SINGLE CABIN</td>\n",
       "      <td>COMMERCIAL</td>\n",
       "      <td>2004.0</td>\n",
       "      <td>JL7BCE1K44K002036</td>\n",
       "      <td>DUBAI</td>\n",
       "      <td>101509203</td>\n",
       "      <td>...</td>\n",
       "      <td>09-02-2016</td>\n",
       "      <td>0.0</td>\n",
       "      <td>04-01-2015 08:15</td>\n",
       "      <td>930.0</td>\n",
       "      <td>NaN</td>\n",
       "      <td>NaN</td>\n",
       "      <td>2.0</td>\n",
       "      <td>NOT CLASSIFIED</td>\n",
       "      <td>TP</td>\n",
       "      <td>NaN</td>\n",
       "    </tr>\n",
       "    <tr>\n",
       "      <th>2</th>\n",
       "      <td>749</td>\n",
       "      <td>JAIKISHIN (S)</td>\n",
       "      <td>SALOON</td>\n",
       "      <td>TOYOTA</td>\n",
       "      <td>YARIS</td>\n",
       "      <td>PRIVATE</td>\n",
       "      <td>2007.0</td>\n",
       "      <td>JTDBW923371044730</td>\n",
       "      <td>DUBAI</td>\n",
       "      <td>101509204</td>\n",
       "      <td>...</td>\n",
       "      <td>13-02-2016</td>\n",
       "      <td>NaN</td>\n",
       "      <td>04-01-2015 08:26</td>\n",
       "      <td>640.0</td>\n",
       "      <td>NaN</td>\n",
       "      <td>NaN</td>\n",
       "      <td>4.0</td>\n",
       "      <td>TP</td>\n",
       "      <td>TP</td>\n",
       "      <td>NaN</td>\n",
       "    </tr>\n",
       "    <tr>\n",
       "      <th>3</th>\n",
       "      <td>2968</td>\n",
       "      <td>AMIT</td>\n",
       "      <td>VAN</td>\n",
       "      <td>HYUNDAI</td>\n",
       "      <td>H-1</td>\n",
       "      <td>DELIVERY VEHICLES</td>\n",
       "      <td>2006.0</td>\n",
       "      <td>KMJWWH7W36U687780</td>\n",
       "      <td>DUBAI</td>\n",
       "      <td>102048937</td>\n",
       "      <td>...</td>\n",
       "      <td>21-02-2016</td>\n",
       "      <td>8456.0</td>\n",
       "      <td>04-01-2015 08:47</td>\n",
       "      <td>1260.0</td>\n",
       "      <td>NaN</td>\n",
       "      <td>NaN</td>\n",
       "      <td>8.0</td>\n",
       "      <td>NOT CLASSIFIED</td>\n",
       "      <td>COMP</td>\n",
       "      <td>NaN</td>\n",
       "    </tr>\n",
       "    <tr>\n",
       "      <th>4</th>\n",
       "      <td>3349</td>\n",
       "      <td>RAJENDRA</td>\n",
       "      <td>NaN</td>\n",
       "      <td>NaN</td>\n",
       "      <td>NaN</td>\n",
       "      <td>NaN</td>\n",
       "      <td>NaN</td>\n",
       "      <td>NaN</td>\n",
       "      <td>NaN</td>\n",
       "      <td>101509068/1</td>\n",
       "      <td>...</td>\n",
       "      <td>21-12-2015</td>\n",
       "      <td>NaN</td>\n",
       "      <td>04-01-2015 09:09</td>\n",
       "      <td>200.0</td>\n",
       "      <td>NaN</td>\n",
       "      <td>NaN</td>\n",
       "      <td>NaN</td>\n",
       "      <td>NOT CLASSIFIED</td>\n",
       "      <td>TP</td>\n",
       "      <td>NaN</td>\n",
       "    </tr>\n",
       "  </tbody>\n",
       "</table>\n",
       "<p>5 rows × 21 columns</p>\n",
       "</div>"
      ],
      "text/plain": [
       "   CUST_ID      EXECUTIVE     BODY        MAKE                MODEL  \\\n",
       "0      749  JAIKISHIN (S)   SALOON      TOYOTA               AVALON   \n",
       "1      749  JAIKISHIN (S)  PICK UP  MITSUBISHI  CANTER SINGLE CABIN   \n",
       "2      749  JAIKISHIN (S)   SALOON      TOYOTA                YARIS   \n",
       "3     2968           AMIT      VAN     HYUNDAI                  H-1   \n",
       "4     3349       RAJENDRA      NaN         NaN                  NaN   \n",
       "\n",
       "      USE_OF_VEHICLE  MODEL_YEAR         CHASSIS_NO   REGN    POLICY_NO  ...  \\\n",
       "0            PRIVATE      2004.0  4T1BF28B74U386791  DUBAI    102048936  ...   \n",
       "1         COMMERCIAL      2004.0  JL7BCE1K44K002036  DUBAI    101509203  ...   \n",
       "2            PRIVATE      2007.0  JTDBW923371044730  DUBAI    101509204  ...   \n",
       "3  DELIVERY VEHICLES      2006.0  KMJWWH7W36U687780  DUBAI    102048937  ...   \n",
       "4                NaN         NaN                NaN    NaN  101509068/1  ...   \n",
       "\n",
       "  POL_EXPIRY_DATE SUM INSURED    POL_ISSUE_DATE PREMIUM2  DRV_DOB DRV_DLI  \\\n",
       "0      23-02-2016     14080.0  04-01-2015 08:14   1090.0      NaN     NaN   \n",
       "1      09-02-2016         0.0  04-01-2015 08:15    930.0      NaN     NaN   \n",
       "2      13-02-2016         NaN  04-01-2015 08:26    640.0      NaN     NaN   \n",
       "3      21-02-2016      8456.0  04-01-2015 08:47   1260.0      NaN     NaN   \n",
       "4      21-12-2015         NaN  04-01-2015 09:09    200.0      NaN     NaN   \n",
       "\n",
       "  VEH_SEATS         PRODUCT POLICYTYPE Unnamed: 20  \n",
       "0       4.0  NOT CLASSIFIED       COMP         NaN  \n",
       "1       2.0  NOT CLASSIFIED         TP         NaN  \n",
       "2       4.0              TP         TP         NaN  \n",
       "3       8.0  NOT CLASSIFIED       COMP         NaN  \n",
       "4       NaN  NOT CLASSIFIED         TP         NaN  \n",
       "\n",
       "[5 rows x 21 columns]"
      ]
     },
     "execution_count": 4,
     "metadata": {},
     "output_type": "execute_result"
    }
   ],
   "source": [
    "df.head(5)"
   ]
  },
  {
   "cell_type": "code",
   "execution_count": 9,
   "id": "cd6717b5-5cb7-4fad-bd70-6e3e113027e9",
   "metadata": {},
   "outputs": [
    {
     "data": {
      "text/plain": [
       "CUST_ID             0.000000\n",
       "EXECUTIVE           0.000000\n",
       "BODY                4.530727\n",
       "MAKE                4.516659\n",
       "MODEL               4.623487\n",
       "USE_OF_VEHICLE      4.529408\n",
       "MODEL_YEAR          4.549191\n",
       "CHASSIS_NO          4.516659\n",
       "REGN                4.517978\n",
       "POLICY_NO           0.000000\n",
       "POL_EFF_DATE        0.000000\n",
       "POL_EXPIRY_DATE     0.000000\n",
       "SUM INSURED        49.536860\n",
       "POL_ISSUE_DATE      0.000000\n",
       "PREMIUM2            0.004396\n",
       "DRV_DOB            11.343084\n",
       "DRV_DLI            11.343084\n",
       "VEH_SEATS           4.516659\n",
       "PRODUCT             0.000000\n",
       "POLICYTYPE          0.000000\n",
       "Unnamed: 20        74.449266\n",
       "dtype: float64"
      ]
     },
     "execution_count": 9,
     "metadata": {},
     "output_type": "execute_result"
    }
   ],
   "source": [
    "df.isnull().sum() * 100 / df.shape[0]"
   ]
  },
  {
   "cell_type": "code",
   "execution_count": 5,
   "id": "a943628b-9e3d-4d5a-9ce2-5ec1ae2a6c5d",
   "metadata": {},
   "outputs": [
    {
     "name": "stdout",
     "output_type": "stream",
     "text": [
      "<class 'pandas.core.frame.DataFrame'>\n",
      "RangeIndex: 227469 entries, 0 to 227468\n",
      "Data columns (total 21 columns):\n",
      " #   Column           Non-Null Count   Dtype  \n",
      "---  ------           --------------   -----  \n",
      " 0   CUST_ID          227469 non-null  int64  \n",
      " 1   EXECUTIVE        227469 non-null  object \n",
      " 2   BODY             217163 non-null  object \n",
      " 3   MAKE             217195 non-null  object \n",
      " 4   MODEL            216952 non-null  object \n",
      " 5   USE_OF_VEHICLE   217166 non-null  object \n",
      " 6   MODEL_YEAR       217121 non-null  float64\n",
      " 7   CHASSIS_NO       217195 non-null  object \n",
      " 8   REGN             217192 non-null  object \n",
      " 9   POLICY_NO        227469 non-null  object \n",
      " 10  POL_EFF_DATE     227469 non-null  object \n",
      " 11  POL_EXPIRY_DATE  227469 non-null  object \n",
      " 12  SUM INSURED      114788 non-null  float64\n",
      " 13  POL_ISSUE_DATE   227469 non-null  object \n",
      " 14  PREMIUM2         227459 non-null  float64\n",
      " 15  DRV_DOB          201667 non-null  object \n",
      " 16  DRV_DLI          201667 non-null  object \n",
      " 17  VEH_SEATS        217195 non-null  float64\n",
      " 18  PRODUCT          227469 non-null  object \n",
      " 19  POLICYTYPE       227469 non-null  object \n",
      " 20  Unnamed: 20      58120 non-null   object \n",
      "dtypes: float64(4), int64(1), object(16)\n",
      "memory usage: 36.4+ MB\n"
     ]
    }
   ],
   "source": [
    "df.info()"
   ]
  },
  {
   "cell_type": "code",
   "execution_count": 16,
   "id": "beb4459d-e3c7-47d6-8847-56b4dcc22729",
   "metadata": {},
   "outputs": [
    {
     "data": {
      "text/plain": [
       "CUST_ID                 0\n",
       "EXECUTIVE               0\n",
       "BODY                    0\n",
       "MAKE                    0\n",
       "MODEL                 234\n",
       "USE_OF_VEHICLE         18\n",
       "MODEL_YEAR             55\n",
       "CHASSIS_NO              0\n",
       "REGN                    2\n",
       "POLICY_NO               0\n",
       "POL_EFF_DATE            0\n",
       "POL_EXPIRY_DATE         0\n",
       "SUM INSURED        102404\n",
       "POL_ISSUE_DATE          0\n",
       "PREMIUM2                3\n",
       "DRV_DOB             15514\n",
       "DRV_DLI             15514\n",
       "VEH_SEATS               0\n",
       "PRODUCT                 0\n",
       "POLICYTYPE              0\n",
       "dtype: int64"
      ]
     },
     "execution_count": 16,
     "metadata": {},
     "output_type": "execute_result"
    }
   ],
   "source": [
    "df.isnull().sum()"
   ]
  },
  {
   "cell_type": "code",
   "execution_count": 7,
   "id": "346afdea-05aa-410a-a0e4-6822c7699d5a",
   "metadata": {},
   "outputs": [
    {
     "data": {
      "text/plain": [
       "(227469, 21)"
      ]
     },
     "execution_count": 7,
     "metadata": {},
     "output_type": "execute_result"
    }
   ],
   "source": [
    "df.shape"
   ]
  },
  {
   "cell_type": "code",
   "execution_count": 12,
   "id": "9aa084c7-536a-49d3-a50e-5c1f14e27c56",
   "metadata": {},
   "outputs": [],
   "source": [
    "df = df[df['BODY'].notnull()]"
   ]
  },
  {
   "cell_type": "markdown",
   "id": "2310e650-d2fb-4be7-abd8-70d4915221e3",
   "metadata": {},
   "source": [
    "removed the data where BODY data is null "
   ]
  },
  {
   "cell_type": "code",
   "execution_count": 13,
   "id": "d52a1364-a2e0-419e-82ab-4f1fcb61147b",
   "metadata": {},
   "outputs": [
    {
     "data": {
      "text/plain": [
       "(217163, 21)"
      ]
     },
     "execution_count": 13,
     "metadata": {},
     "output_type": "execute_result"
    }
   ],
   "source": [
    "df.shape"
   ]
  },
  {
   "cell_type": "code",
   "execution_count": 15,
   "id": "baa510a1-c4db-4ef2-9b88-73c96ecc9799",
   "metadata": {},
   "outputs": [
    {
     "name": "stderr",
     "output_type": "stream",
     "text": [
      "C:\\Users\\hp\\AppData\\Local\\Temp\\ipykernel_11724\\2683523185.py:1: SettingWithCopyWarning: \n",
      "A value is trying to be set on a copy of a slice from a DataFrame\n",
      "\n",
      "See the caveats in the documentation: https://pandas.pydata.org/pandas-docs/stable/user_guide/indexing.html#returning-a-view-versus-a-copy\n",
      "  df.drop('Unnamed: 20',axis = 1,inplace=True)\n"
     ]
    }
   ],
   "source": [
    "df.drop('Unnamed: 20',axis = 1,inplace=True)"
   ]
  },
  {
   "cell_type": "markdown",
   "id": "710380e2-12b7-4480-b93a-d3236c637569",
   "metadata": {},
   "source": [
    "drop the column \"Unnamed: 20\" because 74% data is null "
   ]
  },
  {
   "cell_type": "code",
   "execution_count": 17,
   "id": "4b90e561-68d1-48b6-b022-eac42dd0b64a",
   "metadata": {},
   "outputs": [],
   "source": [
    "df_1 = df.copy()"
   ]
  },
  {
   "cell_type": "markdown",
   "id": "acd5c945-fa06-428b-8d75-489a8dec7e38",
   "metadata": {},
   "source": [
    "Cleaning for MODEL column "
   ]
  },
  {
   "cell_type": "code",
   "execution_count": 21,
   "id": "607eca77-b82b-4665-b674-1dd149bf2b7c",
   "metadata": {},
   "outputs": [
    {
     "data": {
      "text/plain": [
       "array(['RANGE ROVER', 'SUBARU', 'ASHOK LEYLAND', 'CMC VERYCA', 'MERCEDES',\n",
       "       'YAMAHA', 'VOLVO', 'ISUZU', 'FERRARI', 'DAEWOO', 'TRIUMPH',\n",
       "       'JUNGHEINRICH', 'MAZDA', 'HINO', 'DELTA ', 'EICHER', 'DODGE',\n",
       "       'HYSTER', 'TOYOTA', 'HONDA', 'NISSAN', 'CATERPILLAR',\n",
       "       'MERCEDES-BENZ', 'T.V.S', 'HARLEY DAVIDSON', 'CLARK', '-',\n",
       "       'JINBEI', 'RENAULT', 'HYUNDAI', 'DAIHATSU', 'AUDI', 'ASTON MARTIN',\n",
       "       'HYDRA TERRA', 'CMC', 'HELLI', 'VEHICLE AS PER', 'FUSHUN',\n",
       "       'PROMTRACTOR', 'ZOOMLION', 'MV', 'COBRA', 'FORD', '.', 'ASIASTAR',\n",
       "       'BENTLEY ', 'ENERGICA'], dtype=object)"
      ]
     },
     "execution_count": 21,
     "metadata": {},
     "output_type": "execute_result"
    }
   ],
   "source": [
    "make_dt = df_1[df_1['MODEL'].isnull()]['MAKE'].unique()\n",
    "make_dt"
   ]
  },
  {
   "cell_type": "code",
   "execution_count": 26,
   "id": "d7f0e67f-b87d-4502-bf9c-8e85c65a4c12",
   "metadata": {},
   "outputs": [
    {
     "data": {
      "text/plain": [
       "'SPORT'"
      ]
     },
     "execution_count": 26,
     "metadata": {},
     "output_type": "execute_result"
    }
   ],
   "source": [
    "df_1[df_1['MAKE'] == \"RANGE ROVER\"]['MODEL'].mode()[0]"
   ]
  },
  {
   "cell_type": "code",
   "execution_count": 32,
   "id": "cb6c51e0-07dd-41f8-bdcb-d5e97f41bb53",
   "metadata": {},
   "outputs": [],
   "source": [
    "for val in make_dt:\n",
    "    mode_series = df_1[df_1['MAKE'] == val]['MODEL'].mode()\n",
    "    if not mode_series.empty:\n",
    "        model_mode = mode_series[0]\n",
    "        df_1.loc[(df_1['MAKE'] == val) & (df_1['MODEL'].isna()), 'MODEL'] = model_mode\n"
   ]
  },
  {
   "cell_type": "code",
   "execution_count": 36,
   "id": "5cd5c248-0a7c-4cda-aff2-c89cab15548a",
   "metadata": {},
   "outputs": [
    {
     "data": {
      "text/plain": [
       "CUST_ID                 0\n",
       "EXECUTIVE               0\n",
       "BODY                    0\n",
       "MAKE                    0\n",
       "MODEL                   0\n",
       "USE_OF_VEHICLE         18\n",
       "MODEL_YEAR             55\n",
       "CHASSIS_NO              0\n",
       "REGN                    2\n",
       "POLICY_NO               0\n",
       "POL_EFF_DATE            0\n",
       "POL_EXPIRY_DATE         0\n",
       "SUM INSURED        102403\n",
       "POL_ISSUE_DATE          0\n",
       "PREMIUM2                3\n",
       "DRV_DOB             15498\n",
       "DRV_DLI             15498\n",
       "VEH_SEATS               0\n",
       "PRODUCT                 0\n",
       "POLICYTYPE              0\n",
       "dtype: int64"
      ]
     },
     "execution_count": 36,
     "metadata": {},
     "output_type": "execute_result"
    }
   ],
   "source": [
    "df_1.isnull().sum()"
   ]
  },
  {
   "cell_type": "markdown",
   "id": "c4fa354e-e666-4a97-a5af-a73e069ef8b6",
   "metadata": {},
   "source": [
    "cleaning for column \" USE_OF_VEHICLE \""
   ]
  },
  {
   "cell_type": "code",
   "execution_count": 35,
   "id": "d1e0e08f-f384-4dbe-857d-8d1df1ca88ac",
   "metadata": {},
   "outputs": [],
   "source": [
    "df_1 = df_1[df_1['MODEL'].notnull()]"
   ]
  },
  {
   "cell_type": "code",
   "execution_count": 37,
   "id": "b0925636-554a-4f44-8e8c-9459c42889e1",
   "metadata": {},
   "outputs": [
    {
     "data": {
      "text/plain": [
       "array(['RANGE ROVER', 'BMW', 'ROLLS ROYCE', 'LAMBORGHINI', 'VOLVO',\n",
       "       'SCANIA', 'MERCEDES', 'BENTLEY ', 'MASERATI'], dtype=object)"
      ]
     },
     "execution_count": 37,
     "metadata": {},
     "output_type": "execute_result"
    }
   ],
   "source": [
    "vehicle_dt = df_1[df_1['USE_OF_VEHICLE'].isnull()]['MAKE'].unique()\n",
    "vehicle_dt"
   ]
  },
  {
   "cell_type": "code",
   "execution_count": 40,
   "id": "ca7fec3e-716f-4f64-80e8-6acdd85421f2",
   "metadata": {},
   "outputs": [],
   "source": [
    "for val in vehicle_dt:\n",
    "    mode_series = df_1[df_1['MAKE'] == val]['USE_OF_VEHICLE'].mode()\n",
    "    if not mode_series.empty:\n",
    "        model_mode = mode_series[0]\n",
    "        df_1.loc[(df_1['MAKE'] == val) & (df_1['USE_OF_VEHICLE'].isna()), 'USE_OF_VEHICLE'] = model_mode\n"
   ]
  },
  {
   "cell_type": "code",
   "execution_count": 67,
   "id": "46491a44-caf8-4b4d-9fe6-550da51c7319",
   "metadata": {},
   "outputs": [
    {
     "data": {
      "text/plain": [
       "CUST_ID             0\n",
       "EXECUTIVE           0\n",
       "BODY                0\n",
       "MAKE                0\n",
       "MODEL               0\n",
       "USE_OF_VEHICLE      0\n",
       "MODEL_YEAR         55\n",
       "CHASSIS_NO          0\n",
       "REGN                0\n",
       "POLICY_NO           0\n",
       "POL_EFF_DATE        0\n",
       "POL_EXPIRY_DATE     0\n",
       "SUM INSURED         0\n",
       "POL_ISSUE_DATE      0\n",
       "PREMIUM2            0\n",
       "VEH_SEATS           0\n",
       "PRODUCT             0\n",
       "POLICYTYPE          0\n",
       "dtype: int64"
      ]
     },
     "execution_count": 67,
     "metadata": {},
     "output_type": "execute_result"
    }
   ],
   "source": [
    "df_1.isnull().sum()"
   ]
  },
  {
   "cell_type": "code",
   "execution_count": 62,
   "id": "d4682551-c371-47e5-8a79-bcd01bb51309",
   "metadata": {},
   "outputs": [
    {
     "data": {
      "text/plain": [
       "0    2014.0\n",
       "Name: MODEL_YEAR, dtype: float64"
      ]
     },
     "execution_count": 62,
     "metadata": {},
     "output_type": "execute_result"
    }
   ],
   "source": [
    "df_1[df_1['MAKE'] == \"RANGE ROVER\"]['MODEL_YEAR'].mode()"
   ]
  },
  {
   "cell_type": "code",
   "execution_count": 55,
   "id": "bfd872ef-90c8-497a-acdb-8e80b4daeaac",
   "metadata": {},
   "outputs": [],
   "source": [
    "df_1.loc[(df_1['MAKE'] == \"ASIASTAR\") & (df_1['REGN'].isnull()),\"REGN\"] = \"DUBAI\""
   ]
  },
  {
   "cell_type": "code",
   "execution_count": 59,
   "id": "c01cc018-f678-4bd9-b442-32f67c2f482a",
   "metadata": {},
   "outputs": [],
   "source": [
    "df_1['SUM INSURED'] = df_1['SUM INSURED'].fillna(0)"
   ]
  },
  {
   "cell_type": "code",
   "execution_count": 64,
   "id": "34cee1c7-88f7-4dd0-bfd1-2a3baf43d8cd",
   "metadata": {},
   "outputs": [],
   "source": [
    "df_1.drop({'DRV_DOB','DRV_DLI'} , axis = 1,inplace = True ) "
   ]
  },
  {
   "cell_type": "code",
   "execution_count": 66,
   "id": "9ebc8d8c-b39d-4d07-976b-e1c547d457b2",
   "metadata": {},
   "outputs": [
    {
     "name": "stderr",
     "output_type": "stream",
     "text": [
      "C:\\Users\\hp\\AppData\\Local\\Temp\\ipykernel_11724\\414313355.py:1: FutureWarning: A value is trying to be set on a copy of a DataFrame or Series through chained assignment using an inplace method.\n",
      "The behavior will change in pandas 3.0. This inplace method will never work because the intermediate object on which we are setting values always behaves as a copy.\n",
      "\n",
      "For example, when doing 'df[col].method(value, inplace=True)', try using 'df.method({col: value}, inplace=True)' or df[col] = df[col].method(value) instead, to perform the operation inplace on the original object.\n",
      "\n",
      "\n",
      "  df_1['PREMIUM2'].fillna(df_1['PREMIUM2'].mean(), inplace = True)\n"
     ]
    }
   ],
   "source": [
    "df_1['PREMIUM2'].fillna(df_1['PREMIUM2'].mean(), inplace = True)"
   ]
  },
  {
   "cell_type": "code",
   "execution_count": 69,
   "id": "86868d2a-2013-470d-a631-a850d3a1c6c7",
   "metadata": {},
   "outputs": [],
   "source": [
    "## Model Year \n",
    "model_dt = df_1[df_1['MODEL_YEAR'].isnull()]['MAKE'].unique()\n",
    "model_dt \n",
    "\n",
    "for val in model_dt:\n",
    "    mode_series = df_1[df_1['MAKE'] == val]['MODEL_YEAR'].mode()\n",
    "    if not mode_series.empty:\n",
    "        model_mode = mode_series[0]\n",
    "        df_1.loc[(df_1['MAKE'] == val) & (df_1['MODEL_YEAR'].isna()), 'MODEL_YEAR'] = model_mode\n"
   ]
  },
  {
   "cell_type": "code",
   "execution_count": 74,
   "id": "819be9f1-8d39-4a76-940c-48bb2c3e56e5",
   "metadata": {},
   "outputs": [],
   "source": [
    "df_1.dropna(inplace = True)"
   ]
  },
  {
   "cell_type": "code",
   "execution_count": 80,
   "id": "ce2f2132-74e8-456e-aacc-65ce6e4f258b",
   "metadata": {},
   "outputs": [],
   "source": [
    "df_1['MODEL_YEAR'] = df_1['MODEL_YEAR'].astype(int)"
   ]
  },
  {
   "cell_type": "code",
   "execution_count": 107,
   "id": "ffbf6143-1910-4566-a803-f40aad955539",
   "metadata": {},
   "outputs": [],
   "source": [
    "df_1['POLICY_NO'] = df_1['POLICY_NO'].str.split('/').str.get(0)"
   ]
  },
  {
   "cell_type": "code",
   "execution_count": 111,
   "id": "5dfab535-5d4d-4f95-8dac-08d8ae0f1b1f",
   "metadata": {},
   "outputs": [
    {
     "name": "stdout",
     "output_type": "stream",
     "text": [
      "<class 'pandas.core.frame.DataFrame'>\n",
      "Index: 217111 entries, 0 to 227468\n",
      "Data columns (total 18 columns):\n",
      " #   Column           Non-Null Count   Dtype  \n",
      "---  ------           --------------   -----  \n",
      " 0   CUST_ID          217111 non-null  int64  \n",
      " 1   EXECUTIVE        217111 non-null  object \n",
      " 2   BODY             217111 non-null  object \n",
      " 3   MAKE             217111 non-null  object \n",
      " 4   MODEL            217111 non-null  object \n",
      " 5   USE_OF_VEHICLE   217111 non-null  object \n",
      " 6   MODEL_YEAR       217111 non-null  int32  \n",
      " 7   CHASSIS_NO       217111 non-null  object \n",
      " 8   REGN             217111 non-null  object \n",
      " 9   POLICY_NO        217111 non-null  object \n",
      " 10  POL_EFF_DATE     217111 non-null  object \n",
      " 11  POL_EXPIRY_DATE  217111 non-null  object \n",
      " 12  SUM INSURED      217111 non-null  float64\n",
      " 13  POL_ISSUE_DATE   217111 non-null  object \n",
      " 14  PREMIUM2         217111 non-null  float64\n",
      " 15  VEH_SEATS        217111 non-null  float64\n",
      " 16  PRODUCT          217111 non-null  object \n",
      " 17  POLICYTYPE       217111 non-null  object \n",
      "dtypes: float64(3), int32(1), int64(1), object(13)\n",
      "memory usage: 30.6+ MB\n"
     ]
    }
   ],
   "source": [
    "df_1.info()"
   ]
  },
  {
   "cell_type": "code",
   "execution_count": 113,
   "id": "38c40e3a-b2fe-4bf0-beac-c584a2ed8c4d",
   "metadata": {},
   "outputs": [],
   "source": [
    "df_1.to_csv(\"policyTypeCleaning.csv\")"
   ]
  },
  {
   "cell_type": "code",
   "execution_count": 118,
   "id": "77187f39-0b87-4013-923e-6e428ab4512f",
   "metadata": {},
   "outputs": [
    {
     "name": "stderr",
     "output_type": "stream",
     "text": [
      "C:\\Users\\hp\\AppData\\Local\\Temp\\ipykernel_11724\\2689128153.py:1: UserWarning: Boolean Series key will be reindexed to match DataFrame index.\n",
      "  df_1[(df['BODY'] == \"PICK UP\") & (df['MAKE'] == \"ISUZU\")]['MODEL'].mode()\n"
     ]
    },
    {
     "data": {
      "text/plain": [
       "0    NPR\n",
       "Name: MODEL, dtype: object"
      ]
     },
     "execution_count": 118,
     "metadata": {},
     "output_type": "execute_result"
    }
   ],
   "source": [
    "df_1[(df['BODY'] == \"PICK UP\") & (df['MAKE'] == \"ISUZU\")]['MODEL'].mode()"
   ]
  },
  {
   "cell_type": "code",
   "execution_count": 121,
   "id": "306067d7-fca0-4c75-b5f1-926afcfbfe73",
   "metadata": {},
   "outputs": [],
   "source": [
    "df_1.loc[df_1['MODEL'] == \".\" , \"MODEL\"] = np.nan"
   ]
  },
  {
   "cell_type": "code",
   "execution_count": 131,
   "id": "059e2b1a-f952-4227-a5fc-5907404e282c",
   "metadata": {},
   "outputs": [],
   "source": [
    "df_1.to_csv(\"policyTypeCleaning2.csv\",index = False)"
   ]
  },
  {
   "cell_type": "code",
   "execution_count": null,
   "id": "c1c72a4a-cf1a-4f7a-af4b-02a8b31f3c40",
   "metadata": {},
   "outputs": [],
   "source": []
  }
 ],
 "metadata": {
  "kernelspec": {
   "display_name": "Python [conda env:base] *",
   "language": "python",
   "name": "conda-base-py"
  },
  "language_info": {
   "codemirror_mode": {
    "name": "ipython",
    "version": 3
   },
   "file_extension": ".py",
   "mimetype": "text/x-python",
   "name": "python",
   "nbconvert_exporter": "python",
   "pygments_lexer": "ipython3",
   "version": "3.12.7"
  }
 },
 "nbformat": 4,
 "nbformat_minor": 5
}
